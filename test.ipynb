{
 "cells": [
  {
   "cell_type": "code",
   "execution_count": 5,
   "id": "ff59a043",
   "metadata": {},
   "outputs": [],
   "source": [
    "text = \"\"\"Variable count  missing          mean           std  \\\\\n",
    "Year                              2938        0  2.007519e+03  4.613841e+00\n",
    "Life expectancy                   2928       10  6.922493e+01  9.523867e+00\n",
    "Adult Mortality                   2928       10  1.647964e+02  1.242921e+02\n",
    "\"\"\""
   ]
  },
  {
   "cell_type": "code",
   "execution_count": 8,
   "id": "c4bd7cc0",
   "metadata": {},
   "outputs": [
    {
     "name": "stdout",
     "output_type": "stream",
     "text": [
      "Collecting tabulate\n",
      "  Downloading tabulate-0.9.0-py3-none-any.whl.metadata (34 kB)\n",
      "Downloading tabulate-0.9.0-py3-none-any.whl (35 kB)\n",
      "Installing collected packages: tabulate\n",
      "Successfully installed tabulate-0.9.0\n",
      "Note: you may need to restart the kernel to use updated packages.\n"
     ]
    }
   ],
   "source": [
    "%pip install tabulate"
   ]
  },
  {
   "cell_type": "code",
   "execution_count": 9,
   "id": "30d6779d",
   "metadata": {},
   "outputs": [
    {
     "name": "stdout",
     "output_type": "stream",
     "text": [
      "|       | count      |   missing |    mean |       std |         \\ |\n",
      "|:------|:-----------|----------:|--------:|----------:|----------:|\n",
      "| Year  | 2938       |         0 | 2007.52 |   4.61384 | nan       |\n",
      "| Life  | expectancy |      2928 |   10    |  69.2249  |   9.52387 |\n",
      "| Adult | Mortality  |      2928 |   10    | 164.796   | 124.292   |\n"
     ]
    },
    {
     "name": "stderr",
     "output_type": "stream",
     "text": [
      "C:\\Users\\haili\\AppData\\Local\\Temp\\ipykernel_26648\\1786542447.py:5: FutureWarning: The 'delim_whitespace' keyword in pd.read_csv is deprecated and will be removed in a future version. Use ``sep='\\s+'`` instead\n",
      "  df = pd.read_csv(StringIO(text), delim_whitespace=True)\n"
     ]
    }
   ],
   "source": [
    "import pandas as pd\n",
    "from io import StringIO\n",
    "\n",
    "# Convert to DataFrame by reading as whitespace-delimited text\n",
    "df = pd.read_csv(StringIO(text), delim_whitespace=True)\n",
    "\n",
    "# Optional: set first column as index\n",
    "df = df.rename(columns={df.columns[0]: \"\"}).set_index(\"\")\n",
    "\n",
    "# Convert to Markdown table\n",
    "markdown_table = df.to_markdown()\n",
    "print(markdown_table)\n"
   ]
  }
 ],
 "metadata": {
  "kernelspec": {
   "display_name": "data-cleaning-agent",
   "language": "python",
   "name": "python3"
  },
  "language_info": {
   "codemirror_mode": {
    "name": "ipython",
    "version": 3
   },
   "file_extension": ".py",
   "mimetype": "text/x-python",
   "name": "python",
   "nbconvert_exporter": "python",
   "pygments_lexer": "ipython3",
   "version": "3.11.13"
  }
 },
 "nbformat": 4,
 "nbformat_minor": 5
}
