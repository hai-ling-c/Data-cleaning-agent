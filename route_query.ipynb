{
 "cells": [
  {
   "cell_type": "code",
   "execution_count": null,
   "id": "255f6fcf",
   "metadata": {},
   "outputs": [],
   "source": [
    "# Lang chain imports\n",
    "from langchain_openai import ChatOpenAI  \n",
    "from langchain.schema import HumanMessage, SystemMessage, \n",
    "from dotenv import load_dotenv\n",
    "from pathlib import Path\n",
    "\n",
    "# Get API KEY\n",
    "import os\n",
    "\n",
    "load_dotenv()\n",
    "OPENAI_API_KEY = os.environ.get(\"OPENAI_API_KEY\")\n",
    "if not OPENAI_API_KEY:\n",
    "    print(\"OpenAI API Key not found\")\n",
    "\n",
    "# Import libraries\n",
    "import pandas as pd\n",
    "import numpy as np\n",
    "import io\n",
    "import contextlib"
   ]
  },
  {
   "cell_type": "code",
   "execution_count": 11,
   "id": "6b75742d",
   "metadata": {},
   "outputs": [],
   "source": [
    "# Load dotenv\n",
    "import os\n",
    "from dotenv import load_dotenv\n",
    "load_dotenv()\n",
    "\n",
    "# Get API Key\n",
    "OPENAI_API_KEY = os.environ.get(\"OPENAI_API_KEY\")\n",
    "if not OPENAI_API_KEY:\n",
    "    print(\"OpenAI API Key not found\")\n",
    "\n",
    "# Import libraries\n",
    "from pathlib import Path\n",
    "import pandas as pd\n",
    "import numpy as np\n",
    "import io\n",
    "import contextlib\n",
    "\n",
    "# Langchain imports\n",
    "from langchain_openai import ChatOpenAI  \n",
    "from langchain.schema import HumanMessage, SystemMessage, AIMessage\n"
   ]
  },
  {
   "cell_type": "markdown",
   "id": "f2a7b5cb",
   "metadata": {},
   "source": [
    "### **Helper Functions**"
   ]
  },
  {
   "cell_type": "code",
   "execution_count": 5,
   "id": "469f9172",
   "metadata": {},
   "outputs": [],
   "source": [
    "def export_df(df):\n",
    "    \"\"\"Export current dataframe to a csv file\"\"\"\n",
    "    out_path = \"datasets_out\"\n",
    "    if not os.path.exists(out_path):\n",
    "        os.makedirs(out_path)\n",
    "    out_file = os.path.join(out_path, \"output.csv\")\n",
    "    df.to_csv(out_file, index=False)\n",
    "    return f\"Dataframe saved to {out_file}\""
   ]
  },
  {
   "cell_type": "markdown",
   "id": "50ab179f",
   "metadata": {},
   "source": [
    "# **IMPORTING FEATURES**\n",
    "<hr>\n",
    "\n",
    "\n",
    "Import features from other notebooks using import_ipynb library"
   ]
  },
  {
   "cell_type": "code",
   "execution_count": 12,
   "id": "16a47f92",
   "metadata": {},
   "outputs": [
    {
     "ename": "FileNotFoundError",
     "evalue": "[Errno 2] No such file or directory: 'C:\\\\Users\\\\haili\\\\Documents\\\\GitHub\\\\Data-Cleaning-Agent\\\\datasets\\\\sample-data.csv'",
     "output_type": "error",
     "traceback": [
      "\u001b[31m---------------------------------------------------------------------------\u001b[39m",
      "\u001b[31mFileNotFoundError\u001b[39m                         Traceback (most recent call last)",
      "\u001b[36mCell\u001b[39m\u001b[36m \u001b[39m\u001b[32mIn[12]\u001b[39m\u001b[32m, line 9\u001b[39m\n\u001b[32m      7\u001b[39m \u001b[38;5;28;01mfrom\u001b[39;00m\u001b[38;5;250m \u001b[39m\u001b[34;01mfeatures\u001b[39;00m\u001b[34;01m.\u001b[39;00m\u001b[34;01msummaries\u001b[39;00m\u001b[38;5;250m \u001b[39m\u001b[38;5;28;01mimport\u001b[39;00m get_summaries\n\u001b[32m      8\u001b[39m \u001b[38;5;28;01mfrom\u001b[39;00m\u001b[38;5;250m \u001b[39m\u001b[34;01mfeatures\u001b[39;00m\u001b[34;01m.\u001b[39;00m\u001b[34;01mmissing_vals\u001b[39;00m\u001b[38;5;250m \u001b[39m\u001b[38;5;28;01mimport\u001b[39;00m missing_vals\n\u001b[32m----> \u001b[39m\u001b[32m9\u001b[39m \u001b[38;5;28;01mfrom\u001b[39;00m\u001b[38;5;250m \u001b[39m\u001b[34;01mfeatures\u001b[39;00m\u001b[34;01m.\u001b[39;00m\u001b[34;01moutliers\u001b[39;00m\u001b[38;5;250m \u001b[39m\u001b[38;5;28;01mimport\u001b[39;00m outliers \n",
      "\u001b[36mFile \u001b[39m\u001b[32m<frozen importlib._bootstrap>:1176\u001b[39m, in \u001b[36m_find_and_load\u001b[39m\u001b[34m(name, import_)\u001b[39m\n",
      "\u001b[36mFile \u001b[39m\u001b[32m<frozen importlib._bootstrap>:1147\u001b[39m, in \u001b[36m_find_and_load_unlocked\u001b[39m\u001b[34m(name, import_)\u001b[39m\n",
      "\u001b[36mFile \u001b[39m\u001b[32m<frozen importlib._bootstrap>:690\u001b[39m, in \u001b[36m_load_unlocked\u001b[39m\u001b[34m(spec)\u001b[39m\n",
      "\u001b[36mFile \u001b[39m\u001b[32mc:\\Users\\haili\\anaconda3\\envs\\data-cleaning-agent\\Lib\\site-packages\\import_ipynb.py:64\u001b[39m, in \u001b[36mNotebookLoader.exec_module\u001b[39m\u001b[34m(self, mod)\u001b[39m\n\u001b[32m     60\u001b[39m             code = \u001b[38;5;28mself\u001b[39m.shell.input_transformer_manager.transform_cell(\n\u001b[32m     61\u001b[39m                 cell.source\n\u001b[32m     62\u001b[39m             )\n\u001b[32m     63\u001b[39m             \u001b[38;5;66;03m# run the code in themodule\u001b[39;00m\n\u001b[32m---> \u001b[39m\u001b[32m64\u001b[39m             exec(code, mod.\u001b[34m__dict__\u001b[39m)\n\u001b[32m     65\u001b[39m \u001b[38;5;28;01mfinally\u001b[39;00m:\n\u001b[32m     66\u001b[39m     \u001b[38;5;28mself\u001b[39m.shell.user_ns = save_user_ns\n",
      "\u001b[36mFile \u001b[39m\u001b[32m<string>:9\u001b[39m\n",
      "\u001b[36mFile \u001b[39m\u001b[32mc:\\Users\\haili\\anaconda3\\envs\\data-cleaning-agent\\Lib\\site-packages\\pandas\\io\\parsers\\readers.py:1026\u001b[39m, in \u001b[36mread_csv\u001b[39m\u001b[34m(filepath_or_buffer, sep, delimiter, header, names, index_col, usecols, dtype, engine, converters, true_values, false_values, skipinitialspace, skiprows, skipfooter, nrows, na_values, keep_default_na, na_filter, verbose, skip_blank_lines, parse_dates, infer_datetime_format, keep_date_col, date_parser, date_format, dayfirst, cache_dates, iterator, chunksize, compression, thousands, decimal, lineterminator, quotechar, quoting, doublequote, escapechar, comment, encoding, encoding_errors, dialect, on_bad_lines, delim_whitespace, low_memory, memory_map, float_precision, storage_options, dtype_backend)\u001b[39m\n\u001b[32m   1013\u001b[39m kwds_defaults = _refine_defaults_read(\n\u001b[32m   1014\u001b[39m     dialect,\n\u001b[32m   1015\u001b[39m     delimiter,\n\u001b[32m   (...)\u001b[39m\u001b[32m   1022\u001b[39m     dtype_backend=dtype_backend,\n\u001b[32m   1023\u001b[39m )\n\u001b[32m   1024\u001b[39m kwds.update(kwds_defaults)\n\u001b[32m-> \u001b[39m\u001b[32m1026\u001b[39m \u001b[38;5;28;01mreturn\u001b[39;00m \u001b[43m_read\u001b[49m\u001b[43m(\u001b[49m\u001b[43mfilepath_or_buffer\u001b[49m\u001b[43m,\u001b[49m\u001b[43m \u001b[49m\u001b[43mkwds\u001b[49m\u001b[43m)\u001b[49m\n",
      "\u001b[36mFile \u001b[39m\u001b[32mc:\\Users\\haili\\anaconda3\\envs\\data-cleaning-agent\\Lib\\site-packages\\pandas\\io\\parsers\\readers.py:620\u001b[39m, in \u001b[36m_read\u001b[39m\u001b[34m(filepath_or_buffer, kwds)\u001b[39m\n\u001b[32m    617\u001b[39m _validate_names(kwds.get(\u001b[33m\"\u001b[39m\u001b[33mnames\u001b[39m\u001b[33m\"\u001b[39m, \u001b[38;5;28;01mNone\u001b[39;00m))\n\u001b[32m    619\u001b[39m \u001b[38;5;66;03m# Create the parser.\u001b[39;00m\n\u001b[32m--> \u001b[39m\u001b[32m620\u001b[39m parser = \u001b[43mTextFileReader\u001b[49m\u001b[43m(\u001b[49m\u001b[43mfilepath_or_buffer\u001b[49m\u001b[43m,\u001b[49m\u001b[43m \u001b[49m\u001b[43m*\u001b[49m\u001b[43m*\u001b[49m\u001b[43mkwds\u001b[49m\u001b[43m)\u001b[49m\n\u001b[32m    622\u001b[39m \u001b[38;5;28;01mif\u001b[39;00m chunksize \u001b[38;5;129;01mor\u001b[39;00m iterator:\n\u001b[32m    623\u001b[39m     \u001b[38;5;28;01mreturn\u001b[39;00m parser\n",
      "\u001b[36mFile \u001b[39m\u001b[32mc:\\Users\\haili\\anaconda3\\envs\\data-cleaning-agent\\Lib\\site-packages\\pandas\\io\\parsers\\readers.py:1620\u001b[39m, in \u001b[36mTextFileReader.__init__\u001b[39m\u001b[34m(self, f, engine, **kwds)\u001b[39m\n\u001b[32m   1617\u001b[39m     \u001b[38;5;28mself\u001b[39m.options[\u001b[33m\"\u001b[39m\u001b[33mhas_index_names\u001b[39m\u001b[33m\"\u001b[39m] = kwds[\u001b[33m\"\u001b[39m\u001b[33mhas_index_names\u001b[39m\u001b[33m\"\u001b[39m]\n\u001b[32m   1619\u001b[39m \u001b[38;5;28mself\u001b[39m.handles: IOHandles | \u001b[38;5;28;01mNone\u001b[39;00m = \u001b[38;5;28;01mNone\u001b[39;00m\n\u001b[32m-> \u001b[39m\u001b[32m1620\u001b[39m \u001b[38;5;28mself\u001b[39m._engine = \u001b[38;5;28;43mself\u001b[39;49m\u001b[43m.\u001b[49m\u001b[43m_make_engine\u001b[49m\u001b[43m(\u001b[49m\u001b[43mf\u001b[49m\u001b[43m,\u001b[49m\u001b[43m \u001b[49m\u001b[38;5;28;43mself\u001b[39;49m\u001b[43m.\u001b[49m\u001b[43mengine\u001b[49m\u001b[43m)\u001b[49m\n",
      "\u001b[36mFile \u001b[39m\u001b[32mc:\\Users\\haili\\anaconda3\\envs\\data-cleaning-agent\\Lib\\site-packages\\pandas\\io\\parsers\\readers.py:1880\u001b[39m, in \u001b[36mTextFileReader._make_engine\u001b[39m\u001b[34m(self, f, engine)\u001b[39m\n\u001b[32m   1878\u001b[39m     \u001b[38;5;28;01mif\u001b[39;00m \u001b[33m\"\u001b[39m\u001b[33mb\u001b[39m\u001b[33m\"\u001b[39m \u001b[38;5;129;01mnot\u001b[39;00m \u001b[38;5;129;01min\u001b[39;00m mode:\n\u001b[32m   1879\u001b[39m         mode += \u001b[33m\"\u001b[39m\u001b[33mb\u001b[39m\u001b[33m\"\u001b[39m\n\u001b[32m-> \u001b[39m\u001b[32m1880\u001b[39m \u001b[38;5;28mself\u001b[39m.handles = \u001b[43mget_handle\u001b[49m\u001b[43m(\u001b[49m\n\u001b[32m   1881\u001b[39m \u001b[43m    \u001b[49m\u001b[43mf\u001b[49m\u001b[43m,\u001b[49m\n\u001b[32m   1882\u001b[39m \u001b[43m    \u001b[49m\u001b[43mmode\u001b[49m\u001b[43m,\u001b[49m\n\u001b[32m   1883\u001b[39m \u001b[43m    \u001b[49m\u001b[43mencoding\u001b[49m\u001b[43m=\u001b[49m\u001b[38;5;28;43mself\u001b[39;49m\u001b[43m.\u001b[49m\u001b[43moptions\u001b[49m\u001b[43m.\u001b[49m\u001b[43mget\u001b[49m\u001b[43m(\u001b[49m\u001b[33;43m\"\u001b[39;49m\u001b[33;43mencoding\u001b[39;49m\u001b[33;43m\"\u001b[39;49m\u001b[43m,\u001b[49m\u001b[43m \u001b[49m\u001b[38;5;28;43;01mNone\u001b[39;49;00m\u001b[43m)\u001b[49m\u001b[43m,\u001b[49m\n\u001b[32m   1884\u001b[39m \u001b[43m    \u001b[49m\u001b[43mcompression\u001b[49m\u001b[43m=\u001b[49m\u001b[38;5;28;43mself\u001b[39;49m\u001b[43m.\u001b[49m\u001b[43moptions\u001b[49m\u001b[43m.\u001b[49m\u001b[43mget\u001b[49m\u001b[43m(\u001b[49m\u001b[33;43m\"\u001b[39;49m\u001b[33;43mcompression\u001b[39;49m\u001b[33;43m\"\u001b[39;49m\u001b[43m,\u001b[49m\u001b[43m \u001b[49m\u001b[38;5;28;43;01mNone\u001b[39;49;00m\u001b[43m)\u001b[49m\u001b[43m,\u001b[49m\n\u001b[32m   1885\u001b[39m \u001b[43m    \u001b[49m\u001b[43mmemory_map\u001b[49m\u001b[43m=\u001b[49m\u001b[38;5;28;43mself\u001b[39;49m\u001b[43m.\u001b[49m\u001b[43moptions\u001b[49m\u001b[43m.\u001b[49m\u001b[43mget\u001b[49m\u001b[43m(\u001b[49m\u001b[33;43m\"\u001b[39;49m\u001b[33;43mmemory_map\u001b[39;49m\u001b[33;43m\"\u001b[39;49m\u001b[43m,\u001b[49m\u001b[43m \u001b[49m\u001b[38;5;28;43;01mFalse\u001b[39;49;00m\u001b[43m)\u001b[49m\u001b[43m,\u001b[49m\n\u001b[32m   1886\u001b[39m \u001b[43m    \u001b[49m\u001b[43mis_text\u001b[49m\u001b[43m=\u001b[49m\u001b[43mis_text\u001b[49m\u001b[43m,\u001b[49m\n\u001b[32m   1887\u001b[39m \u001b[43m    \u001b[49m\u001b[43merrors\u001b[49m\u001b[43m=\u001b[49m\u001b[38;5;28;43mself\u001b[39;49m\u001b[43m.\u001b[49m\u001b[43moptions\u001b[49m\u001b[43m.\u001b[49m\u001b[43mget\u001b[49m\u001b[43m(\u001b[49m\u001b[33;43m\"\u001b[39;49m\u001b[33;43mencoding_errors\u001b[39;49m\u001b[33;43m\"\u001b[39;49m\u001b[43m,\u001b[49m\u001b[43m \u001b[49m\u001b[33;43m\"\u001b[39;49m\u001b[33;43mstrict\u001b[39;49m\u001b[33;43m\"\u001b[39;49m\u001b[43m)\u001b[49m\u001b[43m,\u001b[49m\n\u001b[32m   1888\u001b[39m \u001b[43m    \u001b[49m\u001b[43mstorage_options\u001b[49m\u001b[43m=\u001b[49m\u001b[38;5;28;43mself\u001b[39;49m\u001b[43m.\u001b[49m\u001b[43moptions\u001b[49m\u001b[43m.\u001b[49m\u001b[43mget\u001b[49m\u001b[43m(\u001b[49m\u001b[33;43m\"\u001b[39;49m\u001b[33;43mstorage_options\u001b[39;49m\u001b[33;43m\"\u001b[39;49m\u001b[43m,\u001b[49m\u001b[43m \u001b[49m\u001b[38;5;28;43;01mNone\u001b[39;49;00m\u001b[43m)\u001b[49m\u001b[43m,\u001b[49m\n\u001b[32m   1889\u001b[39m \u001b[43m\u001b[49m\u001b[43m)\u001b[49m\n\u001b[32m   1890\u001b[39m \u001b[38;5;28;01massert\u001b[39;00m \u001b[38;5;28mself\u001b[39m.handles \u001b[38;5;129;01mis\u001b[39;00m \u001b[38;5;129;01mnot\u001b[39;00m \u001b[38;5;28;01mNone\u001b[39;00m\n\u001b[32m   1891\u001b[39m f = \u001b[38;5;28mself\u001b[39m.handles.handle\n",
      "\u001b[36mFile \u001b[39m\u001b[32mc:\\Users\\haili\\anaconda3\\envs\\data-cleaning-agent\\Lib\\site-packages\\pandas\\io\\common.py:873\u001b[39m, in \u001b[36mget_handle\u001b[39m\u001b[34m(path_or_buf, mode, encoding, compression, memory_map, is_text, errors, storage_options)\u001b[39m\n\u001b[32m    868\u001b[39m \u001b[38;5;28;01melif\u001b[39;00m \u001b[38;5;28misinstance\u001b[39m(handle, \u001b[38;5;28mstr\u001b[39m):\n\u001b[32m    869\u001b[39m     \u001b[38;5;66;03m# Check whether the filename is to be opened in binary mode.\u001b[39;00m\n\u001b[32m    870\u001b[39m     \u001b[38;5;66;03m# Binary mode does not support 'encoding' and 'newline'.\u001b[39;00m\n\u001b[32m    871\u001b[39m     \u001b[38;5;28;01mif\u001b[39;00m ioargs.encoding \u001b[38;5;129;01mand\u001b[39;00m \u001b[33m\"\u001b[39m\u001b[33mb\u001b[39m\u001b[33m\"\u001b[39m \u001b[38;5;129;01mnot\u001b[39;00m \u001b[38;5;129;01min\u001b[39;00m ioargs.mode:\n\u001b[32m    872\u001b[39m         \u001b[38;5;66;03m# Encoding\u001b[39;00m\n\u001b[32m--> \u001b[39m\u001b[32m873\u001b[39m         handle = \u001b[38;5;28;43mopen\u001b[39;49m\u001b[43m(\u001b[49m\n\u001b[32m    874\u001b[39m \u001b[43m            \u001b[49m\u001b[43mhandle\u001b[49m\u001b[43m,\u001b[49m\n\u001b[32m    875\u001b[39m \u001b[43m            \u001b[49m\u001b[43mioargs\u001b[49m\u001b[43m.\u001b[49m\u001b[43mmode\u001b[49m\u001b[43m,\u001b[49m\n\u001b[32m    876\u001b[39m \u001b[43m            \u001b[49m\u001b[43mencoding\u001b[49m\u001b[43m=\u001b[49m\u001b[43mioargs\u001b[49m\u001b[43m.\u001b[49m\u001b[43mencoding\u001b[49m\u001b[43m,\u001b[49m\n\u001b[32m    877\u001b[39m \u001b[43m            \u001b[49m\u001b[43merrors\u001b[49m\u001b[43m=\u001b[49m\u001b[43merrors\u001b[49m\u001b[43m,\u001b[49m\n\u001b[32m    878\u001b[39m \u001b[43m            \u001b[49m\u001b[43mnewline\u001b[49m\u001b[43m=\u001b[49m\u001b[33;43m\"\u001b[39;49m\u001b[33;43m\"\u001b[39;49m\u001b[43m,\u001b[49m\n\u001b[32m    879\u001b[39m \u001b[43m        \u001b[49m\u001b[43m)\u001b[49m\n\u001b[32m    880\u001b[39m     \u001b[38;5;28;01melse\u001b[39;00m:\n\u001b[32m    881\u001b[39m         \u001b[38;5;66;03m# Binary mode\u001b[39;00m\n\u001b[32m    882\u001b[39m         handle = \u001b[38;5;28mopen\u001b[39m(handle, ioargs.mode)\n",
      "\u001b[31mFileNotFoundError\u001b[39m: [Errno 2] No such file or directory: 'C:\\\\Users\\\\haili\\\\Documents\\\\GitHub\\\\Data-Cleaning-Agent\\\\datasets\\\\sample-data.csv'"
     ]
    }
   ],
   "source": [
    "# Import Features\n",
    "import import_ipynb\n",
    "import importlib\n",
    "import features\n",
    "\n",
    "importlib.reload(features)\n",
    "from features.summaries import get_summaries\n",
    "from features.missing_vals import missing_vals\n",
    "from features.outliers import outliers "
   ]
  },
  {
   "cell_type": "code",
   "execution_count": null,
   "id": "21b1d554",
   "metadata": {},
   "outputs": [],
   "source": [
    "# List features for agent \n",
    "features = \"\"\"\n",
    "Available features (TOOLS):\n",
    "- get_summaries(df, message): for queries regarding generating summaries.\n",
    "- missing_vals(df, message): for queries regarding missing values, imputation etc.\n",
    "- outliers(df, message): for queries regarding outliers.\n",
    "- export_df(df) : for queries requesting exporting datasets.\n",
    "\"\"\""
   ]
  },
  {
   "cell_type": "code",
   "execution_count": null,
   "id": "bb3f23fd",
   "metadata": {},
   "outputs": [
    {
     "ename": "NameError",
     "evalue": "name 'get_summaries' is not defined",
     "output_type": "error",
     "traceback": [
      "\u001b[31m---------------------------------------------------------------------------\u001b[39m",
      "\u001b[31mNameError\u001b[39m                                 Traceback (most recent call last)",
      "\u001b[36mCell\u001b[39m\u001b[36m \u001b[39m\u001b[32mIn[6]\u001b[39m\u001b[32m, line 2\u001b[39m\n\u001b[32m      1\u001b[39m helpers = {\n\u001b[32m----> \u001b[39m\u001b[32m2\u001b[39m     \u001b[33m\"\u001b[39m\u001b[33mget_summaries\u001b[39m\u001b[33m\"\u001b[39m: \u001b[43mget_summaries\u001b[49m,\n\u001b[32m      3\u001b[39m     \u001b[33m\"\u001b[39m\u001b[33mmissing_vals\u001b[39m\u001b[33m\"\u001b[39m: missing_vals,\n\u001b[32m      4\u001b[39m     \u001b[33m\"\u001b[39m\u001b[33mexport_df\u001b[39m\u001b[33m\"\u001b[39m: export_df,\n\u001b[32m      5\u001b[39m }\n",
      "\u001b[31mNameError\u001b[39m: name 'get_summaries' is not defined"
     ]
    }
   ],
   "source": [
    "helpers = {\n",
    "    \"get_summaries\": get_summaries,\n",
    "    \"missing_vals\": missing_vals,\n",
    "    \"outliers\": outliers,\n",
    "    \"export_df\": export_df,\n",
    "}"
   ]
  },
  {
   "cell_type": "markdown",
   "id": "81c2cb6d",
   "metadata": {},
   "source": [
    "# **QUERY ROUTER**\n",
    "<hr>\n",
    "\n",
    "The query router uses an LLM to process your query and pass it into your defined features"
   ]
  },
  {
   "cell_type": "code",
   "execution_count": 7,
   "id": "13291d04",
   "metadata": {},
   "outputs": [],
   "source": [
    "def route_query(message, history, file_index):\n",
    "\n",
    "    datasets_path = \"datasets\"\n",
    "\n",
    "    file_paths = [f for f in os.listdir(datasets_path) if f.lower().endswith('.csv')]\n",
    "    if not file_paths:\n",
    "        file_paths.append(\"No CSV files found in 'datasets' folder.\")\n",
    "\n",
    "    df = pd.read_csv(os.path.join(datasets_path, file_paths[file_index]))\n",
    "    # Create message chain\n",
    "    messages = []\n",
    "    messages.append(SystemMessage(content=f\"\"\"\n",
    "    You are a data cleaning agent\n",
    "                                  \n",
    "    Dataset info: Shape: {df.shape}, Sample: {df.head(3).to_string()}\n",
    "\n",
    "    {features}\n",
    "    - These functions (TOOLS) are available to call to assist with queries\n",
    "    \n",
    "    Rules:\n",
    "    - Each function takes (messages) and returns modified df\n",
    "    - Each function call should have a targeted query explaining exactly what to do\n",
    "    - Return only executable Python code, no explanations, NO MARKDOWN BLOCKS\n",
    "    - Only if no actions can be taken, print a descriptive message why\n",
    "    - ASSUME DF IS STORED IN DF\n",
    "    - In order to generate a response/message to the user use print statements: print(\"message\")\n",
    "    - When user asks about how to clean the dataset, provide shape of dataset leaded, a summary and actions you can take \n",
    "    based the helper functions you have.\n",
    "    \n",
    "    Examples:\n",
    "    HANDLE QUERIES  THROUGH FEATURES:\n",
    "    - User: Find means for price and stock, Generated: Single: pritn(get_summaries(df, \"find mean in price, stock\"))\n",
    "    - User: Suggest how to handle missing values, Generated: print(missing_vals(df, \"how to handle missing values\"))\n",
    "    - User: Save current dataset, Generated: print(export_df(df))\n",
    "    HANDLE QUERIES  WITHOUT FEATURES (THROUGH PANDAS):\n",
    "    - User: What object columns are still remaining, Generated: print(df.select_dtypes(include='object'))\n",
    "    - User: Print out the nuniques in each column, Generated: print([col,df[col].nunique() for col in df])\n",
    "    \"\"\"))\n",
    "    for msg in history:\n",
    "        if msg['role'] == 'user':\n",
    "            messages.append(HumanMessage(content=msg['content']))\n",
    "        elif msg['role'] == 'assistant':\n",
    "            messages.append(AIMessage(content = msg['content']))\n",
    "            \n",
    "    messages.append(HumanMessage(content=f\"User request: {message}\"))\n",
    "\n",
    "    # Call LLM\n",
    "    llm = ChatOpenAI(temperature=0, model_name=\"gpt-4o-mini\")\n",
    "    response = llm.invoke(messages)\n",
    "    generated_code = response.content.strip()\n",
    "\n",
    "    buffer = io.StringIO()\n",
    "    try:\n",
    "        exec_globals = {\"df\": df, \"pd\": pd, **helpers}\n",
    "        with contextlib.redirect_stdout(buffer):\n",
    "            exec(generated_code, exec_globals)\n",
    "        output = buffer.getvalue().strip()\n",
    "        \n",
    "        if not output:\n",
    "            output = \"Code executed, but nothing was printed.\"\n",
    "        return output\n",
    "    \n",
    "    except Exception as e:\n",
    "        return f\"Error running code:\\n{e}\\n\\nGenerated code:\\n{generated_code}\"\n",
    "\n",
    "    # # Execute AI generated code\n",
    "    # try:\n",
    "    #     original_df = df.copy()\n",
    "    #     exec(generated_code)\n",
    "    #     return df\n",
    "    # except Exception as e:\n",
    "    #     print(f\"Error: {e}\")\n",
    "    #     print(f\"Generated Code:{generated_code}\")\n",
    "    #     return original_df"
   ]
  },
  {
   "cell_type": "markdown",
   "id": "5fc8cd25",
   "metadata": {},
   "source": [
    "# **TEST QUERIES**"
   ]
  },
  {
   "cell_type": "code",
   "execution_count": 101,
   "id": "a76adf7c",
   "metadata": {},
   "outputs": [],
   "source": [
    "# Enter CSV filename from \"datasets\" folder\n",
    "dataset_name = \"Life Expectancy Data.csv\"\n",
    "\n",
    "# Build CSV path (to avoid import errors)\n",
    "load_dotenv()\n",
    "PROJECT_ROOT = Path(os.environ[\"PROJECT_ROOT\"])\n",
    "path = PROJECT_ROOT / \"datasets\" / dataset_name\n",
    "\n",
    "df = pd.read_csv(path)\n",
    "test_df = df.copy()"
   ]
  },
  {
   "cell_type": "code",
   "execution_count": null,
   "id": "0c70e3a9",
   "metadata": {},
   "outputs": [],
   "source": [
    "# user_query = \"Give me ways to handle missing values\"\n",
    "\n",
    "# route_query(user_query, df) "
   ]
  }
 ],
 "metadata": {
  "kernelspec": {
   "display_name": "data-cleaning-agent",
   "language": "python",
   "name": "python3"
  },
  "language_info": {
   "codemirror_mode": {
    "name": "ipython",
    "version": 3
   },
   "file_extension": ".py",
   "mimetype": "text/x-python",
   "name": "python",
   "nbconvert_exporter": "python",
   "pygments_lexer": "ipython3",
   "version": "3.11.13"
  }
 },
 "nbformat": 4,
 "nbformat_minor": 5
}
