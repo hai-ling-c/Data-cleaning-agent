{
 "cells": [
  {
   "cell_type": "code",
   "execution_count": 3,
   "id": "255f6fcf",
   "metadata": {},
   "outputs": [],
   "source": [
    "# Lang chain imports\n",
    "from langchain_openai import ChatOpenAI  \n",
    "from langchain.schema import HumanMessage, SystemMessage, AIMessage\n",
    "from dotenv import load_dotenv\n",
    "from pathlib import Path\n",
    "\n",
    "# Get API KEY\n",
    "import os\n",
    "\n",
    "load_dotenv()\n",
    "OPENAI_API_KEY = os.environ.get(\"OPENAI_API_KEY\")\n",
    "if not OPENAI_API_KEY:\n",
    "    print(\"OpenAI API Key not found\")\n",
    "\n",
    "# Import libraries\n",
    "import pandas as pd\n",
    "import numpy as np\n",
    "import io\n",
    "import contextlib"
   ]
  },
  {
   "cell_type": "markdown",
   "id": "50ab179f",
   "metadata": {},
   "source": [
    "# **IMPORTING FEATURES**\n",
    "<hr>\n",
    "\n",
    "\n",
    "Import features from other notebooks using import_ipynb library"
   ]
  },
  {
   "cell_type": "code",
   "execution_count": 17,
   "id": "16a47f92",
   "metadata": {},
   "outputs": [],
   "source": [
    "# Import Features\n",
    "import import_ipynb\n",
    "import importlib\n",
    "import features\n",
    "importlib.reload(features)\n",
    "from features.summaries import get_summaries\n",
    "from features.missing_vals import missing_vals"
   ]
  },
  {
   "cell_type": "code",
   "execution_count": 16,
   "id": "21b1d554",
   "metadata": {},
   "outputs": [],
   "source": [
    "# List features for agent \n",
    "features = \"\"\"\n",
    "Available features (TOOLS):\n",
    "- get_summaries(df, message): get_sumarries() for queries regarding generating summaries\n",
    "- missing_vals(df, message): for queries regarding missing values, imputation etc.\n",
    "\"\"\""
   ]
  },
  {
   "cell_type": "code",
   "execution_count": 7,
   "id": "bb3f23fd",
   "metadata": {},
   "outputs": [],
   "source": [
    "helpers = {\n",
    "    \"get_summaries\": get_summaries,\n",
    "    \"missing_vals\": missing_vals,\n",
    "}"
   ]
  },
  {
   "cell_type": "markdown",
   "id": "81c2cb6d",
   "metadata": {},
   "source": [
    "# **QUERY ROUTER**\n",
    "<hr>\n",
    "\n",
    "The query router uses an LLM to process your query and pass it into your defined features"
   ]
  },
  {
   "cell_type": "code",
   "execution_count": null,
   "id": "13291d04",
   "metadata": {},
   "outputs": [],
   "source": [
    "def route_query(message, history, file_index):\n",
    "\n",
    "    datasets_path = \"datasets\"\n",
    "\n",
    "    file_paths = [f for f in os.listdir(datasets_path) if f.lower().endswith('.csv')]\n",
    "    if not file_paths:\n",
    "        file_paths.append(\"No CSV files found in 'datasets' folder.\")\n",
    "\n",
    "    df = pd.read_csv(os.path.join(datasets_path, file_paths[file_index]))\n",
    "    # Create message chain\n",
    "    messages = []\n",
    "    messages.append(SystemMessage(content=f\"\"\"\n",
    "    You are a data cleaning agent\n",
    "                                  \n",
    "    Dataset info: Shape: {df.shape}, Sample: {df.head(3).to_string()}\n",
    "\n",
    "    {features}\n",
    "    - These functions (TOOLS) are available to call to assist with queries\n",
    "    \n",
    "    Rules:\n",
    "    - Each function takes (messages) and returns modified df\n",
    "    - Each function call should have a targeted query explaining exactly what to do\n",
    "    - Return only executable Python code, no explanations, NO MARKDOWN BLOCKS\n",
    "    - Only if no actions can be taken, print a descriptive message why\n",
    "    - ASSUME DF IS STORED IN DF\n",
    "    - In order to generate a response/message to the user use print statements: print(\"message\")\n",
    "    \n",
    "    Examples:\n",
    "    HANDLE QUERIES  THROUGH FEATURES:\n",
    "    - User: Find means for price and stock, Generated: Single: pritn(get_summaries(df, \"find mean in price, stock\"))\n",
    "    - User: Suggest how to handle missing values, Generated: print(missing_vals(df, \"how to handle missing values\"))\n",
    "    HANDLE QUERIES  WITHOUT FEATURES (THROUGH PANDAS):\n",
    "    - User: What object columns are still remaining, Generated: print(df.select_dtypes(include='object'))\n",
    "    - User: Print out the nuniques in each column, Generated: print([col,df[col].nunique() for col in df])\n",
    "    \"\"\"))\n",
    "    for msg in history:\n",
    "        if msg['role'] == 'user':\n",
    "            messages.append(HumanMessage(content=msg['content']))\n",
    "        elif msg['role'] == 'assistant':\n",
    "            messages.append(AIMessage(content = msg['content']))\n",
    "            \n",
    "    messages.append(HumanMessage(content=f\"User request: {message}\"))\n",
    "\n",
    "    # Call LLM\n",
    "    llm = ChatOpenAI(temperature=0, model_name=\"gpt-4o-mini\")\n",
    "    response = llm.invoke(messages)\n",
    "    generated_code = response.content.strip()\n",
    "\n",
    "    buffer = io.StringIO()\n",
    "    try:\n",
    "        exec_globals = {\"df\": df, \"pd\": pd, **helpers}\n",
    "        with contextlib.redirect_stdout(buffer):\n",
    "            exec(generated_code, exec_globals)\n",
    "        output = buffer.getvalue().strip()\n",
    "        \n",
    "        if not output:\n",
    "            output = \"Code executed, but nothing was printed.\"\n",
    "        return output\n",
    "    \n",
    "    except Exception as e:\n",
    "        return f\"Error running code:\\n{e}\\n\\nGenerated code:\\n{generated_code}\"\n",
    "\n",
    "    # # Execute AI generated code\n",
    "    # try:\n",
    "    #     original_df = df.copy()\n",
    "    #     exec(generated_code)\n",
    "    #     return df\n",
    "    # except Exception as e:\n",
    "    #     print(f\"Error: {e}\")\n",
    "    #     print(f\"Generated Code:{generated_code}\")\n",
    "    #     return original_df"
   ]
  },
  {
   "cell_type": "markdown",
   "id": "5fc8cd25",
   "metadata": {},
   "source": [
    "# **TEST QUERIES**"
   ]
  },
  {
   "cell_type": "code",
   "execution_count": 101,
   "id": "a76adf7c",
   "metadata": {},
   "outputs": [],
   "source": [
    "# Enter CSV filename from \"datasets\" folder\n",
    "dataset_name = \"Life Expectancy Data.csv\"\n",
    "\n",
    "# Build CSV path (to avoid import errors)\n",
    "load_dotenv()\n",
    "PROJECT_ROOT = Path(os.environ[\"PROJECT_ROOT\"])\n",
    "path = PROJECT_ROOT / \"datasets\" / dataset_name\n",
    "\n",
    "df = pd.read_csv(path)\n",
    "test_df = df.copy()"
   ]
  },
  {
   "cell_type": "code",
   "execution_count": null,
   "id": "0c70e3a9",
   "metadata": {},
   "outputs": [],
   "source": [
    "# user_query = \"Give me ways to handle missing values\"\n",
    "\n",
    "# route_query(user_query, df) "
   ]
  }
 ],
 "metadata": {
  "kernelspec": {
   "display_name": "data-cleaning-agent",
   "language": "python",
   "name": "python3"
  },
  "language_info": {
   "codemirror_mode": {
    "name": "ipython",
    "version": 3
   },
   "file_extension": ".py",
   "mimetype": "text/x-python",
   "name": "python",
   "nbconvert_exporter": "python",
   "pygments_lexer": "ipython3",
   "version": "3.11.13"
  }
 },
 "nbformat": 4,
 "nbformat_minor": 5
}
