{
 "cells": [
  {
   "cell_type": "code",
   "execution_count": 1,
   "id": "ae5cf832",
   "metadata": {},
   "outputs": [],
   "source": [
    "# Lang chain imports\n",
    "from langchain_openai import ChatOpenAI  \n",
    "from langchain.schema import HumanMessage, SystemMessage, AIMessage\n",
    "from dotenv import load_dotenv\n",
    "\n",
    "# Get API KEY\n",
    "import os\n",
    "load_dotenv()\n",
    "OPENAI_API_KEY = os.environ.get(\"OPENAI_API_KEY\")\n",
    "if not OPENAI_API_KEY:\n",
    "    print(\"OpenAI API Key not found\")"
   ]
  },
  {
   "cell_type": "code",
   "execution_count": 2,
   "id": "e8560a7e",
   "metadata": {},
   "outputs": [],
   "source": [
    "# Intilaise messages list and a SystemMessage (giving AI instructions)\n",
    "messages=[]\n",
    "messages.append(SystemMessage(content=\"You are a chatbot interacting with users.\"))"
   ]
  },
  {
   "cell_type": "code",
   "execution_count": 3,
   "id": "368ace56",
   "metadata": {},
   "outputs": [
    {
     "name": "stdout",
     "output_type": "stream",
     "text": [
      "User Query: Hello I'm a student at University of Melbourne.\n"
     ]
    }
   ],
   "source": [
    "query = \"Hello I'm a student at University of Melbourne.\"\n",
    "print(f\"User Query: {query}\")\n",
    "\n",
    "# Adding a HumanMessage to the messages list (User Message/Query)\n",
    "messages.append(HumanMessage(content=query))\n",
    "llm = ChatOpenAI(temperature=0, model=\"gpt-4o-mini\")"
   ]
  },
  {
   "cell_type": "code",
   "execution_count": 4,
   "id": "03395e44",
   "metadata": {},
   "outputs": [
    {
     "name": "stdout",
     "output_type": "stream",
     "text": [
      "AI Response: Hello! That's great to hear! How's your experience at the University of Melbourne so far? Are you studying something specific?\n"
     ]
    }
   ],
   "source": [
    "# Invoking messages to invoke the entire chain\n",
    "response = llm.invoke(messages)\n",
    "print(f\"AI Response: {response.content.strip()}\")"
   ]
  },
  {
   "cell_type": "code",
   "execution_count": 5,
   "id": "211b4dee",
   "metadata": {},
   "outputs": [
    {
     "data": {
      "text/plain": [
       "AIMessage(content=\"Hello! That's great to hear! How's your experience at the University of Melbourne so far? Are you studying something specific?\", additional_kwargs={'refusal': None}, response_metadata={'token_usage': {'completion_tokens': 25, 'prompt_tokens': 28, 'total_tokens': 53, 'completion_tokens_details': {'accepted_prediction_tokens': 0, 'audio_tokens': 0, 'reasoning_tokens': 0, 'rejected_prediction_tokens': 0}, 'prompt_tokens_details': {'audio_tokens': 0, 'cached_tokens': 0}}, 'model_name': 'gpt-4o-mini-2024-07-18', 'system_fingerprint': 'fp_8bda4d3a2c', 'id': 'chatcmpl-CDWeDPObWbbXZC4RHGWhjpl09uOcb', 'service_tier': 'default', 'finish_reason': 'stop', 'logprobs': None}, id='run--c5996385-6bd5-4074-9693-61a743230638-0', usage_metadata={'input_tokens': 28, 'output_tokens': 25, 'total_tokens': 53, 'input_token_details': {'audio': 0, 'cache_read': 0}, 'output_token_details': {'audio': 0, 'reasoning': 0}})"
      ]
     },
     "execution_count": 5,
     "metadata": {},
     "output_type": "execute_result"
    }
   ],
   "source": [
    "# Analyse the response (AI Message Type) \n",
    "response"
   ]
  },
  {
   "cell_type": "code",
   "execution_count": 6,
   "id": "1d9570eb",
   "metadata": {},
   "outputs": [
    {
     "name": "stdout",
     "output_type": "stream",
     "text": [
      "Follow up Query: Everythings good, can you tell me more about my university?\n"
     ]
    }
   ],
   "source": [
    "# Give a follow up question which depends on earlier context\n",
    "follow_up = \"Everythings good, can you tell me more about my university?\"\n",
    "print(f\"Follow up Query: {follow_up}\")\n",
    "messages.append(HumanMessage(content=follow_up))"
   ]
  },
  {
   "cell_type": "code",
   "execution_count": 7,
   "id": "be6e28bd",
   "metadata": {},
   "outputs": [
    {
     "name": "stdout",
     "output_type": "stream",
     "text": [
      "AI Response: The University of Melbourne, established in 1853, is one of Australia's oldest and most prestigious universities. It is located in Parkville, just north of Melbourne's central business district. Here are some key points about the university:\n",
      "\n",
      "1. **Academic Excellence**: The University of Melbourne consistently ranks among the top universities globally. It is known for its strong research output and high academic standards.\n",
      "\n",
      "2. **Diverse Programs**: The university offers a wide range of undergraduate and postgraduate programs across various fields, including arts, sciences, engineering, business, law, and health.\n",
      "\n",
      "3. **Research Opportunities**: It is a research-intensive institution, providing students with opportunities to engage in cutting-edge research across various disciplines.\n",
      "\n",
      "4. **Campus Life**: The campus features beautiful architecture, green spaces, and modern facilities. There are numerous student clubs and societies, cultural events, and recreational activities to enhance student life.\n",
      "\n",
      "5. **International Community**: The University of Melbourne has a diverse student body, with a significant number of international students, fostering a multicultural environment.\n",
      "\n",
      "6. **Support Services**: The university offers various support services, including academic advising, mental health resources, and career services to help students succeed.\n",
      "\n",
      "7. **Location**: Being in Melbourne, students have access to a vibrant city known for its arts, culture, food, and sports, making it an exciting place to live and study.\n",
      "\n",
      "If you have specific questions or areas of interest regarding your university, feel free to ask!\n"
     ]
    }
   ],
   "source": [
    "# Invoke the message chain with previous queries\n",
    "response = llm.invoke(messages)\n",
    "print(f\"AI Response: {response.content.strip()}\")"
   ]
  },
  {
   "cell_type": "code",
   "execution_count": 8,
   "id": "a84a0853",
   "metadata": {},
   "outputs": [
    {
     "data": {
      "text/plain": [
       "[SystemMessage(content='You are a chatbot interacting with users.', additional_kwargs={}, response_metadata={}),\n",
       " HumanMessage(content=\"Hello I'm a student at University of Melbourne.\", additional_kwargs={}, response_metadata={}),\n",
       " HumanMessage(content='Everythings good, can you tell me more about my university?', additional_kwargs={}, response_metadata={}),\n",
       " AIMessage(content=\"The University of Melbourne, established in 1853, is one of Australia's oldest and most prestigious universities. It is located in Parkville, just north of Melbourne's central business district. Here are some key points about the university:\\n\\n1. **Academic Excellence**: The University of Melbourne consistently ranks among the top universities globally. It is known for its strong research output and high academic standards.\\n\\n2. **Diverse Programs**: The university offers a wide range of undergraduate and postgraduate programs across various fields, including arts, sciences, engineering, business, law, and health.\\n\\n3. **Research Opportunities**: It is a research-intensive institution, providing students with opportunities to engage in cutting-edge research across various disciplines.\\n\\n4. **Campus Life**: The campus features beautiful architecture, green spaces, and modern facilities. There are numerous student clubs and societies, cultural events, and recreational activities to enhance student life.\\n\\n5. **International Community**: The University of Melbourne has a diverse student body, with a significant number of international students, fostering a multicultural environment.\\n\\n6. **Support Services**: The university offers various support services, including academic advising, mental health resources, and career services to help students succeed.\\n\\n7. **Location**: Being in Melbourne, students have access to a vibrant city known for its arts, culture, food, and sports, making it an exciting place to live and study.\\n\\nIf you have specific questions or areas of interest regarding your university, feel free to ask!\", additional_kwargs={'refusal': None}, response_metadata={'token_usage': {'completion_tokens': 299, 'prompt_tokens': 45, 'total_tokens': 344, 'completion_tokens_details': {'accepted_prediction_tokens': 0, 'audio_tokens': 0, 'reasoning_tokens': 0, 'rejected_prediction_tokens': 0}, 'prompt_tokens_details': {'audio_tokens': 0, 'cached_tokens': 0}}, 'model_name': 'gpt-4o-mini-2024-07-18', 'system_fingerprint': 'fp_8bda4d3a2c', 'id': 'chatcmpl-CDWeZXetb1eLtvrHSMRYtLtq0RkRm', 'service_tier': 'default', 'finish_reason': 'stop', 'logprobs': None}, id='run--96a0b825-8b94-451c-80ae-445156414761-0', usage_metadata={'input_tokens': 45, 'output_tokens': 299, 'total_tokens': 344, 'input_token_details': {'audio': 0, 'cache_read': 0}, 'output_token_details': {'audio': 0, 'reasoning': 0}})]"
      ]
     },
     "execution_count": 8,
     "metadata": {},
     "output_type": "execute_result"
    }
   ],
   "source": [
    "# Add response to chain to keep it going etc.\n",
    "messages.append(response)\n",
    "messages # inspect message chain so far"
   ]
  }
 ],
 "metadata": {
  "kernelspec": {
   "display_name": "data-cleaning-agent",
   "language": "python",
   "name": "python3"
  },
  "language_info": {
   "codemirror_mode": {
    "name": "ipython",
    "version": 3
   },
   "file_extension": ".py",
   "mimetype": "text/x-python",
   "name": "python",
   "nbconvert_exporter": "python",
   "pygments_lexer": "ipython3",
   "version": "3.11.13"
  }
 },
 "nbformat": 4,
 "nbformat_minor": 5
}
