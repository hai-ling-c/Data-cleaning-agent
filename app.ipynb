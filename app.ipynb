{
 "cells": [
  {
   "cell_type": "code",
   "execution_count": 45,
   "id": "16d79f86",
   "metadata": {},
   "outputs": [
    {
     "name": "stdout",
     "output_type": "stream",
     "text": [
      "Requirement already satisfied: import-ipynb in c:\\users\\haili\\anaconda3\\envs\\data-cleaning-agent\\lib\\site-packages (0.2)\n",
      "Requirement already satisfied: IPython in c:\\users\\haili\\anaconda3\\envs\\data-cleaning-agent\\lib\\site-packages (from import-ipynb) (9.1.0)\n",
      "Requirement already satisfied: nbformat in c:\\users\\haili\\anaconda3\\envs\\data-cleaning-agent\\lib\\site-packages (from import-ipynb) (5.10.4)\n",
      "Requirement already satisfied: colorama in c:\\users\\haili\\anaconda3\\envs\\data-cleaning-agent\\lib\\site-packages (from IPython->import-ipynb) (0.4.6)\n",
      "Requirement already satisfied: decorator in c:\\users\\haili\\anaconda3\\envs\\data-cleaning-agent\\lib\\site-packages (from IPython->import-ipynb) (5.1.1)\n",
      "Requirement already satisfied: ipython-pygments-lexers in c:\\users\\haili\\anaconda3\\envs\\data-cleaning-agent\\lib\\site-packages (from IPython->import-ipynb) (1.1.1)\n",
      "Requirement already satisfied: jedi>=0.16 in c:\\users\\haili\\anaconda3\\envs\\data-cleaning-agent\\lib\\site-packages (from IPython->import-ipynb) (0.19.2)\n",
      "Requirement already satisfied: matplotlib-inline in c:\\users\\haili\\anaconda3\\envs\\data-cleaning-agent\\lib\\site-packages (from IPython->import-ipynb) (0.1.6)\n",
      "Requirement already satisfied: prompt_toolkit<3.1.0,>=3.0.41 in c:\\users\\haili\\anaconda3\\envs\\data-cleaning-agent\\lib\\site-packages (from IPython->import-ipynb) (3.0.43)\n",
      "Requirement already satisfied: pygments>=2.4.0 in c:\\users\\haili\\anaconda3\\envs\\data-cleaning-agent\\lib\\site-packages (from IPython->import-ipynb) (2.19.1)\n",
      "Requirement already satisfied: stack_data in c:\\users\\haili\\anaconda3\\envs\\data-cleaning-agent\\lib\\site-packages (from IPython->import-ipynb) (0.6.3)\n",
      "Requirement already satisfied: traitlets>=5.13.0 in c:\\users\\haili\\anaconda3\\envs\\data-cleaning-agent\\lib\\site-packages (from IPython->import-ipynb) (5.14.3)\n",
      "Requirement already satisfied: typing_extensions>=4.6 in c:\\users\\haili\\anaconda3\\envs\\data-cleaning-agent\\lib\\site-packages (from IPython->import-ipynb) (4.15.0)\n",
      "Requirement already satisfied: wcwidth in c:\\users\\haili\\anaconda3\\envs\\data-cleaning-agent\\lib\\site-packages (from prompt_toolkit<3.1.0,>=3.0.41->IPython->import-ipynb) (0.2.13)\n",
      "Requirement already satisfied: parso<0.9.0,>=0.8.4 in c:\\users\\haili\\anaconda3\\envs\\data-cleaning-agent\\lib\\site-packages (from jedi>=0.16->IPython->import-ipynb) (0.8.4)\n",
      "Requirement already satisfied: fastjsonschema>=2.15 in c:\\users\\haili\\anaconda3\\envs\\data-cleaning-agent\\lib\\site-packages (from nbformat->import-ipynb) (2.20.0)\n",
      "Requirement already satisfied: jsonschema>=2.6 in c:\\users\\haili\\anaconda3\\envs\\data-cleaning-agent\\lib\\site-packages (from nbformat->import-ipynb) (4.25.0)\n",
      "Requirement already satisfied: jupyter-core!=5.0.*,>=4.12 in c:\\users\\haili\\anaconda3\\envs\\data-cleaning-agent\\lib\\site-packages (from nbformat->import-ipynb) (5.8.1)\n",
      "Requirement already satisfied: attrs>=22.2.0 in c:\\users\\haili\\anaconda3\\envs\\data-cleaning-agent\\lib\\site-packages (from jsonschema>=2.6->nbformat->import-ipynb) (24.3.0)\n",
      "Requirement already satisfied: jsonschema-specifications>=2023.03.6 in c:\\users\\haili\\anaconda3\\envs\\data-cleaning-agent\\lib\\site-packages (from jsonschema>=2.6->nbformat->import-ipynb) (2023.7.1)\n",
      "Requirement already satisfied: referencing>=0.28.4 in c:\\users\\haili\\anaconda3\\envs\\data-cleaning-agent\\lib\\site-packages (from jsonschema>=2.6->nbformat->import-ipynb) (0.30.2)\n",
      "Requirement already satisfied: rpds-py>=0.7.1 in c:\\users\\haili\\anaconda3\\envs\\data-cleaning-agent\\lib\\site-packages (from jsonschema>=2.6->nbformat->import-ipynb) (0.22.3)\n",
      "Requirement already satisfied: platformdirs>=2.5 in c:\\users\\haili\\anaconda3\\envs\\data-cleaning-agent\\lib\\site-packages (from jupyter-core!=5.0.*,>=4.12->nbformat->import-ipynb) (4.3.7)\n",
      "Requirement already satisfied: pywin32>=300 in c:\\users\\haili\\anaconda3\\envs\\data-cleaning-agent\\lib\\site-packages (from jupyter-core!=5.0.*,>=4.12->nbformat->import-ipynb) (311)\n",
      "Requirement already satisfied: executing>=1.2.0 in c:\\users\\haili\\anaconda3\\envs\\data-cleaning-agent\\lib\\site-packages (from stack_data->IPython->import-ipynb) (2.2.1)\n",
      "Requirement already satisfied: asttokens>=2.1.0 in c:\\users\\haili\\anaconda3\\envs\\data-cleaning-agent\\lib\\site-packages (from stack_data->IPython->import-ipynb) (3.0.0)\n",
      "Requirement already satisfied: pure_eval in c:\\users\\haili\\anaconda3\\envs\\data-cleaning-agent\\lib\\site-packages (from stack_data->IPython->import-ipynb) (0.2.3)\n",
      "Note: you may need to restart the kernel to use updated packages.\n",
      "Requirement already satisfied: pandas in c:\\users\\haili\\anaconda3\\envs\\data-cleaning-agent\\lib\\site-packages (2.3.2)\n",
      "Requirement already satisfied: numpy in c:\\users\\haili\\anaconda3\\envs\\data-cleaning-agent\\lib\\site-packages (2.3.2)\n",
      "Requirement already satisfied: python-dateutil>=2.8.2 in c:\\users\\haili\\anaconda3\\envs\\data-cleaning-agent\\lib\\site-packages (from pandas) (2.9.0.post0)\n",
      "Requirement already satisfied: pytz>=2020.1 in c:\\users\\haili\\anaconda3\\envs\\data-cleaning-agent\\lib\\site-packages (from pandas) (2025.2)\n",
      "Requirement already satisfied: tzdata>=2022.7 in c:\\users\\haili\\anaconda3\\envs\\data-cleaning-agent\\lib\\site-packages (from pandas) (2025.2)\n",
      "Requirement already satisfied: six>=1.5 in c:\\users\\haili\\anaconda3\\envs\\data-cleaning-agent\\lib\\site-packages (from python-dateutil>=2.8.2->pandas) (1.17.0)\n",
      "Note: you may need to restart the kernel to use updated packages.\n",
      "Requirement already satisfied: langchain in c:\\users\\haili\\anaconda3\\envs\\data-cleaning-agent\\lib\\site-packages (0.3.27)\n",
      "Requirement already satisfied: langchain-openai in c:\\users\\haili\\anaconda3\\envs\\data-cleaning-agent\\lib\\site-packages (0.3.32)\n",
      "Requirement already satisfied: langchain-core<1.0.0,>=0.3.72 in c:\\users\\haili\\anaconda3\\envs\\data-cleaning-agent\\lib\\site-packages (from langchain) (0.3.75)\n",
      "Requirement already satisfied: langchain-text-splitters<1.0.0,>=0.3.9 in c:\\users\\haili\\anaconda3\\envs\\data-cleaning-agent\\lib\\site-packages (from langchain) (0.3.11)\n",
      "Requirement already satisfied: langsmith>=0.1.17 in c:\\users\\haili\\anaconda3\\envs\\data-cleaning-agent\\lib\\site-packages (from langchain) (0.4.26)\n",
      "Requirement already satisfied: pydantic<3.0.0,>=2.7.4 in c:\\users\\haili\\anaconda3\\envs\\data-cleaning-agent\\lib\\site-packages (from langchain) (2.11.7)\n",
      "Requirement already satisfied: SQLAlchemy<3,>=1.4 in c:\\users\\haili\\anaconda3\\envs\\data-cleaning-agent\\lib\\site-packages (from langchain) (2.0.43)\n",
      "Requirement already satisfied: requests<3,>=2 in c:\\users\\haili\\anaconda3\\envs\\data-cleaning-agent\\lib\\site-packages (from langchain) (2.32.5)\n",
      "Requirement already satisfied: PyYAML>=5.3 in c:\\users\\haili\\anaconda3\\envs\\data-cleaning-agent\\lib\\site-packages (from langchain) (6.0.2)\n",
      "Requirement already satisfied: tenacity!=8.4.0,<10.0.0,>=8.1.0 in c:\\users\\haili\\anaconda3\\envs\\data-cleaning-agent\\lib\\site-packages (from langchain-core<1.0.0,>=0.3.72->langchain) (9.1.2)\n",
      "Requirement already satisfied: jsonpatch<2.0,>=1.33 in c:\\users\\haili\\anaconda3\\envs\\data-cleaning-agent\\lib\\site-packages (from langchain-core<1.0.0,>=0.3.72->langchain) (1.33)\n",
      "Requirement already satisfied: typing-extensions>=4.7 in c:\\users\\haili\\anaconda3\\envs\\data-cleaning-agent\\lib\\site-packages (from langchain-core<1.0.0,>=0.3.72->langchain) (4.15.0)\n",
      "Requirement already satisfied: packaging>=23.2 in c:\\users\\haili\\anaconda3\\envs\\data-cleaning-agent\\lib\\site-packages (from langchain-core<1.0.0,>=0.3.72->langchain) (25.0)\n",
      "Requirement already satisfied: jsonpointer>=1.9 in c:\\users\\haili\\anaconda3\\envs\\data-cleaning-agent\\lib\\site-packages (from jsonpatch<2.0,>=1.33->langchain-core<1.0.0,>=0.3.72->langchain) (3.0.0)\n",
      "Requirement already satisfied: annotated-types>=0.6.0 in c:\\users\\haili\\anaconda3\\envs\\data-cleaning-agent\\lib\\site-packages (from pydantic<3.0.0,>=2.7.4->langchain) (0.7.0)\n",
      "Requirement already satisfied: pydantic-core==2.33.2 in c:\\users\\haili\\anaconda3\\envs\\data-cleaning-agent\\lib\\site-packages (from pydantic<3.0.0,>=2.7.4->langchain) (2.33.2)\n",
      "Requirement already satisfied: typing-inspection>=0.4.0 in c:\\users\\haili\\anaconda3\\envs\\data-cleaning-agent\\lib\\site-packages (from pydantic<3.0.0,>=2.7.4->langchain) (0.4.1)\n",
      "Requirement already satisfied: charset_normalizer<4,>=2 in c:\\users\\haili\\anaconda3\\envs\\data-cleaning-agent\\lib\\site-packages (from requests<3,>=2->langchain) (3.3.2)\n",
      "Requirement already satisfied: idna<4,>=2.5 in c:\\users\\haili\\anaconda3\\envs\\data-cleaning-agent\\lib\\site-packages (from requests<3,>=2->langchain) (3.7)\n",
      "Requirement already satisfied: urllib3<3,>=1.21.1 in c:\\users\\haili\\anaconda3\\envs\\data-cleaning-agent\\lib\\site-packages (from requests<3,>=2->langchain) (2.5.0)\n",
      "Requirement already satisfied: certifi>=2017.4.17 in c:\\users\\haili\\anaconda3\\envs\\data-cleaning-agent\\lib\\site-packages (from requests<3,>=2->langchain) (2025.8.3)\n",
      "Requirement already satisfied: greenlet>=1 in c:\\users\\haili\\anaconda3\\envs\\data-cleaning-agent\\lib\\site-packages (from SQLAlchemy<3,>=1.4->langchain) (3.2.4)\n",
      "Requirement already satisfied: openai<2.0.0,>=1.99.9 in c:\\users\\haili\\anaconda3\\envs\\data-cleaning-agent\\lib\\site-packages (from langchain-openai) (1.106.1)\n",
      "Requirement already satisfied: tiktoken<1,>=0.7 in c:\\users\\haili\\anaconda3\\envs\\data-cleaning-agent\\lib\\site-packages (from langchain-openai) (0.11.0)\n",
      "Requirement already satisfied: anyio<5,>=3.5.0 in c:\\users\\haili\\anaconda3\\envs\\data-cleaning-agent\\lib\\site-packages (from openai<2.0.0,>=1.99.9->langchain-openai) (4.7.0)\n",
      "Requirement already satisfied: distro<2,>=1.7.0 in c:\\users\\haili\\anaconda3\\envs\\data-cleaning-agent\\lib\\site-packages (from openai<2.0.0,>=1.99.9->langchain-openai) (1.9.0)\n",
      "Requirement already satisfied: httpx<1,>=0.23.0 in c:\\users\\haili\\anaconda3\\envs\\data-cleaning-agent\\lib\\site-packages (from openai<2.0.0,>=1.99.9->langchain-openai) (0.28.1)\n",
      "Requirement already satisfied: jiter<1,>=0.4.0 in c:\\users\\haili\\anaconda3\\envs\\data-cleaning-agent\\lib\\site-packages (from openai<2.0.0,>=1.99.9->langchain-openai) (0.10.0)\n",
      "Requirement already satisfied: sniffio in c:\\users\\haili\\anaconda3\\envs\\data-cleaning-agent\\lib\\site-packages (from openai<2.0.0,>=1.99.9->langchain-openai) (1.3.0)\n",
      "Requirement already satisfied: tqdm>4 in c:\\users\\haili\\anaconda3\\envs\\data-cleaning-agent\\lib\\site-packages (from openai<2.0.0,>=1.99.9->langchain-openai) (4.67.1)\n",
      "Requirement already satisfied: httpcore==1.* in c:\\users\\haili\\anaconda3\\envs\\data-cleaning-agent\\lib\\site-packages (from httpx<1,>=0.23.0->openai<2.0.0,>=1.99.9->langchain-openai) (1.0.9)\n",
      "Requirement already satisfied: h11>=0.16 in c:\\users\\haili\\anaconda3\\envs\\data-cleaning-agent\\lib\\site-packages (from httpcore==1.*->httpx<1,>=0.23.0->openai<2.0.0,>=1.99.9->langchain-openai) (0.16.0)\n",
      "Requirement already satisfied: regex>=2022.1.18 in c:\\users\\haili\\anaconda3\\envs\\data-cleaning-agent\\lib\\site-packages (from tiktoken<1,>=0.7->langchain-openai) (2025.9.1)\n",
      "Requirement already satisfied: orjson>=3.9.14 in c:\\users\\haili\\anaconda3\\envs\\data-cleaning-agent\\lib\\site-packages (from langsmith>=0.1.17->langchain) (3.11.3)\n",
      "Requirement already satisfied: requests-toolbelt>=1.0.0 in c:\\users\\haili\\anaconda3\\envs\\data-cleaning-agent\\lib\\site-packages (from langsmith>=0.1.17->langchain) (1.0.0)\n",
      "Requirement already satisfied: zstandard>=0.23.0 in c:\\users\\haili\\anaconda3\\envs\\data-cleaning-agent\\lib\\site-packages (from langsmith>=0.1.17->langchain) (0.24.0)\n",
      "Requirement already satisfied: colorama in c:\\users\\haili\\anaconda3\\envs\\data-cleaning-agent\\lib\\site-packages (from tqdm>4->openai<2.0.0,>=1.99.9->langchain-openai) (0.4.6)\n",
      "Note: you may need to restart the kernel to use updated packages.\n",
      "Requirement already satisfied: python-dotenv in c:\\users\\haili\\anaconda3\\envs\\data-cleaning-agent\\lib\\site-packages (1.1.1)\n",
      "Note: you may need to restart the kernel to use updated packages.\n",
      "Requirement already satisfied: gradio in c:\\users\\haili\\anaconda3\\envs\\data-cleaning-agent\\lib\\site-packages (5.45.0)\n",
      "Requirement already satisfied: aiofiles<25.0,>=22.0 in c:\\users\\haili\\anaconda3\\envs\\data-cleaning-agent\\lib\\site-packages (from gradio) (24.1.0)\n",
      "Requirement already satisfied: anyio<5.0,>=3.0 in c:\\users\\haili\\anaconda3\\envs\\data-cleaning-agent\\lib\\site-packages (from gradio) (4.7.0)\n",
      "Requirement already satisfied: brotli>=1.1.0 in c:\\users\\haili\\anaconda3\\envs\\data-cleaning-agent\\lib\\site-packages (from gradio) (1.1.0)\n",
      "Requirement already satisfied: fastapi<1.0,>=0.115.2 in c:\\users\\haili\\anaconda3\\envs\\data-cleaning-agent\\lib\\site-packages (from gradio) (0.116.1)\n",
      "Requirement already satisfied: ffmpy in c:\\users\\haili\\anaconda3\\envs\\data-cleaning-agent\\lib\\site-packages (from gradio) (0.6.1)\n",
      "Requirement already satisfied: gradio-client==1.13.0 in c:\\users\\haili\\anaconda3\\envs\\data-cleaning-agent\\lib\\site-packages (from gradio) (1.13.0)\n",
      "Requirement already satisfied: groovy~=0.1 in c:\\users\\haili\\anaconda3\\envs\\data-cleaning-agent\\lib\\site-packages (from gradio) (0.1.2)\n",
      "Requirement already satisfied: httpx<1.0,>=0.24.1 in c:\\users\\haili\\anaconda3\\envs\\data-cleaning-agent\\lib\\site-packages (from gradio) (0.28.1)\n",
      "Requirement already satisfied: huggingface-hub<1.0,>=0.33.5 in c:\\users\\haili\\anaconda3\\envs\\data-cleaning-agent\\lib\\site-packages (from gradio) (0.34.4)\n",
      "Requirement already satisfied: jinja2<4.0 in c:\\users\\haili\\anaconda3\\envs\\data-cleaning-agent\\lib\\site-packages (from gradio) (3.1.6)\n",
      "Requirement already satisfied: markupsafe<4.0,>=2.0 in c:\\users\\haili\\anaconda3\\envs\\data-cleaning-agent\\lib\\site-packages (from gradio) (3.0.2)\n",
      "Requirement already satisfied: numpy<3.0,>=1.0 in c:\\users\\haili\\anaconda3\\envs\\data-cleaning-agent\\lib\\site-packages (from gradio) (2.3.2)\n",
      "Requirement already satisfied: orjson~=3.0 in c:\\users\\haili\\anaconda3\\envs\\data-cleaning-agent\\lib\\site-packages (from gradio) (3.11.3)\n",
      "Requirement already satisfied: packaging in c:\\users\\haili\\anaconda3\\envs\\data-cleaning-agent\\lib\\site-packages (from gradio) (25.0)\n",
      "Requirement already satisfied: pandas<3.0,>=1.0 in c:\\users\\haili\\anaconda3\\envs\\data-cleaning-agent\\lib\\site-packages (from gradio) (2.3.2)\n",
      "Requirement already satisfied: pillow<12.0,>=8.0 in c:\\users\\haili\\anaconda3\\envs\\data-cleaning-agent\\lib\\site-packages (from gradio) (11.3.0)\n",
      "Requirement already satisfied: pydantic<2.12,>=2.0 in c:\\users\\haili\\anaconda3\\envs\\data-cleaning-agent\\lib\\site-packages (from gradio) (2.11.7)\n",
      "Requirement already satisfied: pydub in c:\\users\\haili\\anaconda3\\envs\\data-cleaning-agent\\lib\\site-packages (from gradio) (0.25.1)\n",
      "Requirement already satisfied: python-multipart>=0.0.18 in c:\\users\\haili\\anaconda3\\envs\\data-cleaning-agent\\lib\\site-packages (from gradio) (0.0.20)\n",
      "Requirement already satisfied: pyyaml<7.0,>=5.0 in c:\\users\\haili\\anaconda3\\envs\\data-cleaning-agent\\lib\\site-packages (from gradio) (6.0.2)\n",
      "Requirement already satisfied: ruff>=0.9.3 in c:\\users\\haili\\anaconda3\\envs\\data-cleaning-agent\\lib\\site-packages (from gradio) (0.13.0)\n",
      "Requirement already satisfied: safehttpx<0.2.0,>=0.1.6 in c:\\users\\haili\\anaconda3\\envs\\data-cleaning-agent\\lib\\site-packages (from gradio) (0.1.6)\n",
      "Requirement already satisfied: semantic-version~=2.0 in c:\\users\\haili\\anaconda3\\envs\\data-cleaning-agent\\lib\\site-packages (from gradio) (2.10.0)\n",
      "Requirement already satisfied: starlette<1.0,>=0.40.0 in c:\\users\\haili\\anaconda3\\envs\\data-cleaning-agent\\lib\\site-packages (from gradio) (0.47.3)\n",
      "Requirement already satisfied: tomlkit<0.14.0,>=0.12.0 in c:\\users\\haili\\anaconda3\\envs\\data-cleaning-agent\\lib\\site-packages (from gradio) (0.13.3)\n",
      "Requirement already satisfied: typer<1.0,>=0.12 in c:\\users\\haili\\anaconda3\\envs\\data-cleaning-agent\\lib\\site-packages (from gradio) (0.17.4)\n",
      "Requirement already satisfied: typing-extensions~=4.0 in c:\\users\\haili\\anaconda3\\envs\\data-cleaning-agent\\lib\\site-packages (from gradio) (4.15.0)\n",
      "Requirement already satisfied: uvicorn>=0.14.0 in c:\\users\\haili\\anaconda3\\envs\\data-cleaning-agent\\lib\\site-packages (from gradio) (0.35.0)\n",
      "Requirement already satisfied: fsspec in c:\\users\\haili\\anaconda3\\envs\\data-cleaning-agent\\lib\\site-packages (from gradio-client==1.13.0->gradio) (2025.9.0)\n",
      "Requirement already satisfied: websockets<16.0,>=10.0 in c:\\users\\haili\\anaconda3\\envs\\data-cleaning-agent\\lib\\site-packages (from gradio-client==1.13.0->gradio) (15.0.1)\n",
      "Requirement already satisfied: idna>=2.8 in c:\\users\\haili\\anaconda3\\envs\\data-cleaning-agent\\lib\\site-packages (from anyio<5.0,>=3.0->gradio) (3.7)\n",
      "Requirement already satisfied: sniffio>=1.1 in c:\\users\\haili\\anaconda3\\envs\\data-cleaning-agent\\lib\\site-packages (from anyio<5.0,>=3.0->gradio) (1.3.0)\n",
      "Requirement already satisfied: certifi in c:\\users\\haili\\anaconda3\\envs\\data-cleaning-agent\\lib\\site-packages (from httpx<1.0,>=0.24.1->gradio) (2025.8.3)\n",
      "Requirement already satisfied: httpcore==1.* in c:\\users\\haili\\anaconda3\\envs\\data-cleaning-agent\\lib\\site-packages (from httpx<1.0,>=0.24.1->gradio) (1.0.9)\n",
      "Requirement already satisfied: h11>=0.16 in c:\\users\\haili\\anaconda3\\envs\\data-cleaning-agent\\lib\\site-packages (from httpcore==1.*->httpx<1.0,>=0.24.1->gradio) (0.16.0)\n",
      "Requirement already satisfied: filelock in c:\\users\\haili\\anaconda3\\envs\\data-cleaning-agent\\lib\\site-packages (from huggingface-hub<1.0,>=0.33.5->gradio) (3.19.1)\n",
      "Requirement already satisfied: requests in c:\\users\\haili\\anaconda3\\envs\\data-cleaning-agent\\lib\\site-packages (from huggingface-hub<1.0,>=0.33.5->gradio) (2.32.5)\n",
      "Requirement already satisfied: tqdm>=4.42.1 in c:\\users\\haili\\anaconda3\\envs\\data-cleaning-agent\\lib\\site-packages (from huggingface-hub<1.0,>=0.33.5->gradio) (4.67.1)\n",
      "Requirement already satisfied: python-dateutil>=2.8.2 in c:\\users\\haili\\anaconda3\\envs\\data-cleaning-agent\\lib\\site-packages (from pandas<3.0,>=1.0->gradio) (2.9.0.post0)\n",
      "Requirement already satisfied: pytz>=2020.1 in c:\\users\\haili\\anaconda3\\envs\\data-cleaning-agent\\lib\\site-packages (from pandas<3.0,>=1.0->gradio) (2025.2)\n",
      "Requirement already satisfied: tzdata>=2022.7 in c:\\users\\haili\\anaconda3\\envs\\data-cleaning-agent\\lib\\site-packages (from pandas<3.0,>=1.0->gradio) (2025.2)\n",
      "Requirement already satisfied: annotated-types>=0.6.0 in c:\\users\\haili\\anaconda3\\envs\\data-cleaning-agent\\lib\\site-packages (from pydantic<2.12,>=2.0->gradio) (0.7.0)\n",
      "Requirement already satisfied: pydantic-core==2.33.2 in c:\\users\\haili\\anaconda3\\envs\\data-cleaning-agent\\lib\\site-packages (from pydantic<2.12,>=2.0->gradio) (2.33.2)\n",
      "Requirement already satisfied: typing-inspection>=0.4.0 in c:\\users\\haili\\anaconda3\\envs\\data-cleaning-agent\\lib\\site-packages (from pydantic<2.12,>=2.0->gradio) (0.4.1)\n",
      "Requirement already satisfied: click>=8.0.0 in c:\\users\\haili\\anaconda3\\envs\\data-cleaning-agent\\lib\\site-packages (from typer<1.0,>=0.12->gradio) (8.2.1)\n",
      "Requirement already satisfied: shellingham>=1.3.0 in c:\\users\\haili\\anaconda3\\envs\\data-cleaning-agent\\lib\\site-packages (from typer<1.0,>=0.12->gradio) (1.5.4)\n",
      "Requirement already satisfied: rich>=10.11.0 in c:\\users\\haili\\anaconda3\\envs\\data-cleaning-agent\\lib\\site-packages (from typer<1.0,>=0.12->gradio) (14.1.0)\n",
      "Requirement already satisfied: colorama in c:\\users\\haili\\anaconda3\\envs\\data-cleaning-agent\\lib\\site-packages (from click>=8.0.0->typer<1.0,>=0.12->gradio) (0.4.6)\n",
      "Requirement already satisfied: six>=1.5 in c:\\users\\haili\\anaconda3\\envs\\data-cleaning-agent\\lib\\site-packages (from python-dateutil>=2.8.2->pandas<3.0,>=1.0->gradio) (1.17.0)\n",
      "Requirement already satisfied: markdown-it-py>=2.2.0 in c:\\users\\haili\\anaconda3\\envs\\data-cleaning-agent\\lib\\site-packages (from rich>=10.11.0->typer<1.0,>=0.12->gradio) (4.0.0)\n",
      "Requirement already satisfied: pygments<3.0.0,>=2.13.0 in c:\\users\\haili\\anaconda3\\envs\\data-cleaning-agent\\lib\\site-packages (from rich>=10.11.0->typer<1.0,>=0.12->gradio) (2.19.1)\n",
      "Requirement already satisfied: mdurl~=0.1 in c:\\users\\haili\\anaconda3\\envs\\data-cleaning-agent\\lib\\site-packages (from markdown-it-py>=2.2.0->rich>=10.11.0->typer<1.0,>=0.12->gradio) (0.1.2)\n",
      "Requirement already satisfied: charset_normalizer<4,>=2 in c:\\users\\haili\\anaconda3\\envs\\data-cleaning-agent\\lib\\site-packages (from requests->huggingface-hub<1.0,>=0.33.5->gradio) (3.3.2)\n",
      "Requirement already satisfied: urllib3<3,>=1.21.1 in c:\\users\\haili\\anaconda3\\envs\\data-cleaning-agent\\lib\\site-packages (from requests->huggingface-hub<1.0,>=0.33.5->gradio) (2.5.0)\n",
      "Note: you may need to restart the kernel to use updated packages.\n"
     ]
    }
   ],
   "source": [
    "# install necessary packages\n",
    "%pip install import-ipynb\n",
    "\n",
    "%pip install pandas numpy\n",
    "%pip install langchain langchain-openai\n",
    "%pip install python-dotenv\n",
    "%pip install --upgrade gradio\n",
    "%pip install tabulate"
   ]
  },
  {
   "cell_type": "code",
   "execution_count": null,
   "id": "37d67699",
   "metadata": {},
   "outputs": [],
   "source": [
    "import os, pathlib\n",
    "from dotenv import load_dotenv, set_key\n",
    "load_dotenv()\n",
    "\n",
    "# Import libraries\n",
    "import pandas as pd\n",
    "import numpy as np\n",
    "import sys\n",
    "\n",
    "# Import route_query function\n",
    "import import_ipynb\n",
    "import features, route_query\n",
    "import importlib\n",
    "\n",
    "importlib.reload(route_query)\n",
    "from route_query import route_query\n",
    "\n",
    "importlib.reload(features)\n",
    "from features.missing_vals import missing_vals\n",
    "from features.summaries import get_summaries"
   ]
  },
  {
   "cell_type": "code",
   "execution_count": null,
   "id": "8be86b78",
   "metadata": {},
   "outputs": [],
   "source": [
    "import gradio as gr \n",
    "\n",
    "datasets_path = \"datasets\"\n",
    "\n",
    "file_paths = [f for f in os.listdir(datasets_path) if f.lower().endswith('.csv')]\n",
    "if not file_paths:\n",
    "    file_paths.append(\"No CSV files found in 'datasets' folder.\")\n",
    "\n"
   ]
  },
  {
   "cell_type": "code",
   "execution_count": 179,
   "id": "15c6234a",
   "metadata": {},
   "outputs": [
    {
     "name": "stdout",
     "output_type": "stream",
     "text": [
      "* Running on local URL:  http://127.0.0.1:7907\n",
      "* To create a public link, set `share=True` in `launch()`.\n"
     ]
    },
    {
     "data": {
      "text/html": [
       "<div><iframe src=\"http://127.0.0.1:7907/\" width=\"100%\" height=\"500\" allow=\"autoplay; camera; microphone; clipboard-read; clipboard-write;\" frameborder=\"0\" allowfullscreen></iframe></div>"
      ],
      "text/plain": [
       "<IPython.core.display.HTML object>"
      ]
     },
     "metadata": {},
     "output_type": "display_data"
    },
    {
     "data": {
      "text/plain": []
     },
     "execution_count": 179,
     "metadata": {},
     "output_type": "execute_result"
    }
   ],
   "source": [
    "with gr.Blocks(\n",
    "    css = \"#chatbot {flex-grow: 1 !important; overflow: auto !important; }\"\n",
    ") as demo:\n",
    "    gr.Markdown(\"# AI-Powered Data Assistant\")\n",
    "        \n",
    "    def load_df(selected_file):\n",
    "        global df\n",
    "        if isinstance(selected_file, int):\n",
    "            if not file_paths:\n",
    "                return  \"No CSV files found in 'datasets' folder.\"\n",
    "            df = pd.read_csv(os.path.join(datasets_path, file_paths[selected_file]))\n",
    "            return 'dataset loaded'\n",
    "        else:\n",
    "            return 'error loading dataset'\n",
    "\n",
    "    # gr.Interface(\n",
    "    #     load_df, \n",
    "    #     [\n",
    "    #         gr.Dropdown(\n",
    "    #         choices = file_paths, \n",
    "    #         interactive= True,\n",
    "    #         label='Select a dataset to load', \n",
    "    #         type=\"index\",\n",
    "    #         )\n",
    "    #     ],\n",
    "    #     outputs = \"text\"\n",
    "    # )\n",
    "\n",
    "    file_index = gr.Dropdown(\n",
    "            choices = file_paths, \n",
    "            interactive= True,\n",
    "            label='Select a dataset to load', \n",
    "            type=\"index\",\n",
    "            )\n",
    "    \n",
    "    \n",
    "    gr.ChatInterface(\n",
    "        route_query,\n",
    "        additional_inputs= [file_index],\n",
    "        examples = [\n",
    "            [\"How to handle missing values?\",file_paths[0]]\n",
    "        ],\n",
    "        type='messages'\n",
    "    )\n",
    "    \n",
    "demo.launch()"
   ]
  },
  {
   "cell_type": "code",
   "execution_count": 166,
   "id": "40e359b9",
   "metadata": {},
   "outputs": [
    {
     "data": {
      "text/plain": [
       "'The dataset contains several columns with missing values. Based on the analysis, the following imputation strategies are suggested for each column with missing data:\\n\\n1. Lifeexpectancy: Mean imputation (0.3% missing)\\n2. AdultMortality: Median imputation (skewed, 0.3% missing)\\n3. Alcohol: Mean imputation (6.6% missing)\\n4. HepatitisB: Median imputation (skewed, 18.8% missing)\\n5. BMI: Mean imputation (1.2% missing)\\n6. Polio: Median imputation (skewed, 0.6% missing)\\n7. Totalexpenditure: Mean imputation (7.7% missing)\\n8. Diphtheria: Median imputation (skewed, 0.6% missing)\\n9. GDP: Median imputation (skewed, 15.2% missing)\\n10. Population: Median imputation (skewed, 22.2% missing)\\n11. thinness1-19years: Median imputation (skewed, 1.2% missing)\\n12. thinness5-9years: Median imputation (skewed, 1.2% missing)\\n13. Incomecompositionofresources: Median imputation (skewed, 5.7% missing)\\n14. Schooling: Mean imputation (5.5% missing)\\n\\nI will now proceed to impute the missing values in the dataset using the suggested strategies.\\nMissing values have been successfully imputed according to the specified strategies.'"
      ]
     },
     "execution_count": 166,
     "metadata": {},
     "output_type": "execute_result"
    }
   ],
   "source": [
    "importlib.reload(features.missing_vals)\n",
    "from features.missing_vals import missing_vals\n",
    "from features.missing_vals import impute_col\n",
    "missing_vals(df, \"how to handle missing value\")"
   ]
  },
  {
   "cell_type": "code",
   "execution_count": 181,
   "id": "8360b090",
   "metadata": {},
   "outputs": [
    {
     "ename": "TypeError",
     "evalue": "get_summaries() takes 1 positional argument but 2 were given",
     "output_type": "error",
     "traceback": [
      "\u001b[31m---------------------------------------------------------------------------\u001b[39m",
      "\u001b[31mTypeError\u001b[39m                                 Traceback (most recent call last)",
      "\u001b[36mCell\u001b[39m\u001b[36m \u001b[39m\u001b[32mIn[181]\u001b[39m\u001b[32m, line 1\u001b[39m\n\u001b[32m----> \u001b[39m\u001b[32m1\u001b[39m \u001b[43mget_summaries\u001b[49m\u001b[43m(\u001b[49m\u001b[43mdf\u001b[49m\u001b[43m,\u001b[49m\u001b[43m \u001b[49m\u001b[33;43m'\u001b[39;49m\u001b[33;43mgive me a summary\u001b[39;49m\u001b[33;43m'\u001b[39;49m\u001b[43m)\u001b[49m\n",
      "\u001b[31mTypeError\u001b[39m: get_summaries() takes 1 positional argument but 2 were given"
     ]
    }
   ],
   "source": [
    "get_summaries(df, 'give me a summary')\n"
   ]
  }
 ],
 "metadata": {
  "kernelspec": {
   "display_name": "data-cleaning-agent",
   "language": "python",
   "name": "python3"
  },
  "language_info": {
   "codemirror_mode": {
    "name": "ipython",
    "version": 3
   },
   "file_extension": ".py",
   "mimetype": "text/x-python",
   "name": "python",
   "nbconvert_exporter": "python",
   "pygments_lexer": "ipython3",
   "version": "3.11.13"
  }
 },
 "nbformat": 4,
 "nbformat_minor": 5
}
